{
 "cells": [
  {
   "cell_type": "code",
   "execution_count": 1,
   "id": "8cae52aa-8cfd-4596-a91d-3dca340b2f9c",
   "metadata": {},
   "outputs": [],
   "source": [
    "import re"
   ]
  },
  {
   "cell_type": "code",
   "execution_count": 2,
   "id": "bd4915a5-6c6e-4dc1-b1fa-580295b0ffbd",
   "metadata": {},
   "outputs": [],
   "source": [
    "from napkin import Napkin"
   ]
  },
  {
   "cell_type": "code",
   "execution_count": 3,
   "id": "78f5d918-1117-47ef-9d43-ba3cff8fd7a6",
   "metadata": {},
   "outputs": [],
   "source": [
    "def unwrap(tree):\n",
    "    lines = []\n",
    "    lastLineEnd = 0\n",
    "    \n",
    "    indent = 0\n",
    "    \n",
    "    text = str(tree)\n",
    "    \n",
    "    for i, c in enumerate(text):\n",
    "        if text[i:].startswith('), ['):\n",
    "            lines.append((indent * '  ') + text[lastLineEnd:i + 4].strip())\n",
    "            lastLineEnd = i + 4\n",
    "            indent += 1\n",
    "            \n",
    "        elif c == ']' and (i < len(text) - 1 and text[i + 1] == ')'):\n",
    "            lines.append((indent * '  ') + text[lastLineEnd:i].strip())\n",
    "            lastLineEnd = i\n",
    "            indent -= 1\n",
    "            \n",
    "        elif text[i:].startswith('), '):\n",
    "            lines.append((indent * '  ') + text[lastLineEnd:i + 2].strip())\n",
    "            lastLineEnd = i + 2\n",
    "                    \n",
    "    return '\\n'.join(lines)"
   ]
  },
  {
   "cell_type": "code",
   "execution_count": 4,
   "id": "3ecb57b6-506f-46aa-a8c4-c01f77285078",
   "metadata": {},
   "outputs": [],
   "source": [
    "napkin = Napkin()"
   ]
  },
  {
   "cell_type": "code",
   "execution_count": 18,
   "id": "7c8201bc-cb9e-4265-bdae-9ce58c7b6805",
   "metadata": {},
   "outputs": [],
   "source": [
    "sample = r'''`#`'''"
   ]
  },
  {
   "cell_type": "code",
   "execution_count": 19,
   "id": "63b03fb2-0619-419a-8624-fd58eabbdda6",
   "metadata": {},
   "outputs": [
    {
     "ename": "UnexpectedCharacters",
     "evalue": "No terminal matches '#' in the current parser context, at line 1 col 2\n\n`#`\n ^\nExpected one of: \n\t* _TEXT_BLOCK_DELIMITER\n\t* UNDERLINE_OPERATOR\n\t* _INLINE_WHITESPACE\n\t* PARENTHESES\n\t* PUNCTUATION\n\t* KEYWORD_OPERATOR\n\t* OVERLINE_OPERATOR\n\t* UNICODE_OPERATOR\n\t* ITALIC_OPERATOR\n\t* ARRAY_OPEN\n\t* MATH_BB_SYMBOLS\n\t* MATH_SYMBOLS\n\t* NUMBER\n\t* BOLD_OPERATOR\n\t* ROOT_OPERATOR\n\t* OPEN_BRACKET\n\t* MATH_GREEK_SYMBOLS\n\t* LETTER\n\t* SHORTCUT_OPERATOR\n\t* COMMENT_DELIMITER\n\t* MATH_CAL_SYMBOLS\n",
     "output_type": "error",
     "traceback": [
      "\u001b[0;31m---------------------------------------------------------------------------\u001b[0m",
      "\u001b[0;31mUnexpectedCharacters\u001b[0m                      Traceback (most recent call last)",
      "Cell \u001b[0;32mIn[19], line 1\u001b[0m\n\u001b[0;32m----> 1\u001b[0m t \u001b[38;5;241m=\u001b[39m \u001b[43mnapkin\u001b[49m\u001b[38;5;241;43m.\u001b[39;49m\u001b[43mparser\u001b[49m\u001b[38;5;241;43m.\u001b[39;49m\u001b[43mparse\u001b[49m\u001b[43m(\u001b[49m\u001b[43msample\u001b[49m\u001b[43m)\u001b[49m\n\u001b[1;32m      2\u001b[0m napkin\u001b[38;5;241m.\u001b[39mlister\u001b[38;5;241m.\u001b[39mtransform(t)\n\u001b[1;32m      3\u001b[0m c \u001b[38;5;241m=\u001b[39m napkin\u001b[38;5;241m.\u001b[39mcompiler\u001b[38;5;241m.\u001b[39mvisit(t)\n",
      "File \u001b[0;32m/opt/homebrew/lib/python3.11/site-packages/lark/lark.py:652\u001b[0m, in \u001b[0;36mLark.parse\u001b[0;34m(self, text, start, on_error)\u001b[0m\n\u001b[1;32m    634\u001b[0m \u001b[38;5;28;01mdef\u001b[39;00m \u001b[38;5;21mparse\u001b[39m(\u001b[38;5;28mself\u001b[39m, text: \u001b[38;5;28mstr\u001b[39m, start: Optional[\u001b[38;5;28mstr\u001b[39m]\u001b[38;5;241m=\u001b[39m\u001b[38;5;28;01mNone\u001b[39;00m, on_error: \u001b[38;5;124m'\u001b[39m\u001b[38;5;124mOptional[Callable[[UnexpectedInput], bool]]\u001b[39m\u001b[38;5;124m'\u001b[39m\u001b[38;5;241m=\u001b[39m\u001b[38;5;28;01mNone\u001b[39;00m) \u001b[38;5;241m-\u001b[39m\u001b[38;5;241m>\u001b[39m \u001b[38;5;124m'\u001b[39m\u001b[38;5;124mParseTree\u001b[39m\u001b[38;5;124m'\u001b[39m:\n\u001b[1;32m    635\u001b[0m \u001b[38;5;250m    \u001b[39m\u001b[38;5;124;03m\"\"\"Parse the given text, according to the options provided.\u001b[39;00m\n\u001b[1;32m    636\u001b[0m \n\u001b[1;32m    637\u001b[0m \u001b[38;5;124;03m    Parameters:\u001b[39;00m\n\u001b[0;32m   (...)\u001b[0m\n\u001b[1;32m    650\u001b[0m \n\u001b[1;32m    651\u001b[0m \u001b[38;5;124;03m    \"\"\"\u001b[39;00m\n\u001b[0;32m--> 652\u001b[0m     \u001b[38;5;28;01mreturn\u001b[39;00m \u001b[38;5;28;43mself\u001b[39;49m\u001b[38;5;241;43m.\u001b[39;49m\u001b[43mparser\u001b[49m\u001b[38;5;241;43m.\u001b[39;49m\u001b[43mparse\u001b[49m\u001b[43m(\u001b[49m\u001b[43mtext\u001b[49m\u001b[43m,\u001b[49m\u001b[43m \u001b[49m\u001b[43mstart\u001b[49m\u001b[38;5;241;43m=\u001b[39;49m\u001b[43mstart\u001b[49m\u001b[43m,\u001b[49m\u001b[43m \u001b[49m\u001b[43mon_error\u001b[49m\u001b[38;5;241;43m=\u001b[39;49m\u001b[43mon_error\u001b[49m\u001b[43m)\u001b[49m\n",
      "File \u001b[0;32m/opt/homebrew/lib/python3.11/site-packages/lark/parser_frontends.py:101\u001b[0m, in \u001b[0;36mParsingFrontend.parse\u001b[0;34m(self, text, start, on_error)\u001b[0m\n\u001b[1;32m     99\u001b[0m kw \u001b[38;5;241m=\u001b[39m {} \u001b[38;5;28;01mif\u001b[39;00m on_error \u001b[38;5;129;01mis\u001b[39;00m \u001b[38;5;28;01mNone\u001b[39;00m \u001b[38;5;28;01melse\u001b[39;00m {\u001b[38;5;124m'\u001b[39m\u001b[38;5;124mon_error\u001b[39m\u001b[38;5;124m'\u001b[39m: on_error}\n\u001b[1;32m    100\u001b[0m stream \u001b[38;5;241m=\u001b[39m \u001b[38;5;28mself\u001b[39m\u001b[38;5;241m.\u001b[39m_make_lexer_thread(text)\n\u001b[0;32m--> 101\u001b[0m \u001b[38;5;28;01mreturn\u001b[39;00m \u001b[38;5;28;43mself\u001b[39;49m\u001b[38;5;241;43m.\u001b[39;49m\u001b[43mparser\u001b[49m\u001b[38;5;241;43m.\u001b[39;49m\u001b[43mparse\u001b[49m\u001b[43m(\u001b[49m\u001b[43mstream\u001b[49m\u001b[43m,\u001b[49m\u001b[43m \u001b[49m\u001b[43mchosen_start\u001b[49m\u001b[43m,\u001b[49m\u001b[43m \u001b[49m\u001b[38;5;241;43m*\u001b[39;49m\u001b[38;5;241;43m*\u001b[39;49m\u001b[43mkw\u001b[49m\u001b[43m)\u001b[49m\n",
      "File \u001b[0;32m/opt/homebrew/lib/python3.11/site-packages/lark/parsers/earley.py:276\u001b[0m, in \u001b[0;36mParser.parse\u001b[0;34m(self, lexer, start)\u001b[0m\n\u001b[1;32m    273\u001b[0m     \u001b[38;5;28;01melse\u001b[39;00m:\n\u001b[1;32m    274\u001b[0m         columns[\u001b[38;5;241m0\u001b[39m]\u001b[38;5;241m.\u001b[39madd(item)\n\u001b[0;32m--> 276\u001b[0m to_scan \u001b[38;5;241m=\u001b[39m \u001b[38;5;28;43mself\u001b[39;49m\u001b[38;5;241;43m.\u001b[39;49m\u001b[43m_parse\u001b[49m\u001b[43m(\u001b[49m\u001b[43mlexer\u001b[49m\u001b[43m,\u001b[49m\u001b[43m \u001b[49m\u001b[43mcolumns\u001b[49m\u001b[43m,\u001b[49m\u001b[43m \u001b[49m\u001b[43mto_scan\u001b[49m\u001b[43m,\u001b[49m\u001b[43m \u001b[49m\u001b[43mstart_symbol\u001b[49m\u001b[43m)\u001b[49m\n\u001b[1;32m    278\u001b[0m \u001b[38;5;66;03m# If the parse was successful, the start\u001b[39;00m\n\u001b[1;32m    279\u001b[0m \u001b[38;5;66;03m# symbol should have been completed in the last step of the Earley cycle, and will be in\u001b[39;00m\n\u001b[1;32m    280\u001b[0m \u001b[38;5;66;03m# this column. Find the item for the start_symbol, which is the root of the SPPF tree.\u001b[39;00m\n\u001b[1;32m    281\u001b[0m solutions \u001b[38;5;241m=\u001b[39m [n\u001b[38;5;241m.\u001b[39mnode \u001b[38;5;28;01mfor\u001b[39;00m n \u001b[38;5;129;01min\u001b[39;00m columns[\u001b[38;5;241m-\u001b[39m\u001b[38;5;241m1\u001b[39m] \u001b[38;5;28;01mif\u001b[39;00m n\u001b[38;5;241m.\u001b[39mis_complete \u001b[38;5;129;01mand\u001b[39;00m n\u001b[38;5;241m.\u001b[39mnode \u001b[38;5;129;01mis\u001b[39;00m \u001b[38;5;129;01mnot\u001b[39;00m \u001b[38;5;28;01mNone\u001b[39;00m \u001b[38;5;129;01mand\u001b[39;00m n\u001b[38;5;241m.\u001b[39ms \u001b[38;5;241m==\u001b[39m start_symbol \u001b[38;5;129;01mand\u001b[39;00m n\u001b[38;5;241m.\u001b[39mstart \u001b[38;5;241m==\u001b[39m \u001b[38;5;241m0\u001b[39m]\n",
      "File \u001b[0;32m/opt/homebrew/lib/python3.11/site-packages/lark/parsers/xearley.py:146\u001b[0m, in \u001b[0;36mParser._parse\u001b[0;34m(self, stream, columns, to_scan, start_symbol)\u001b[0m\n\u001b[1;32m    143\u001b[0m \u001b[38;5;28;01mfor\u001b[39;00m token \u001b[38;5;129;01min\u001b[39;00m stream:\n\u001b[1;32m    144\u001b[0m     \u001b[38;5;28mself\u001b[39m\u001b[38;5;241m.\u001b[39mpredict_and_complete(i, to_scan, columns, transitives)\n\u001b[0;32m--> 146\u001b[0m     to_scan \u001b[38;5;241m=\u001b[39m \u001b[43mscan\u001b[49m\u001b[43m(\u001b[49m\u001b[43mi\u001b[49m\u001b[43m,\u001b[49m\u001b[43m \u001b[49m\u001b[43mto_scan\u001b[49m\u001b[43m)\u001b[49m\n\u001b[1;32m    148\u001b[0m     \u001b[38;5;28;01mif\u001b[39;00m token \u001b[38;5;241m==\u001b[39m \u001b[38;5;124m'\u001b[39m\u001b[38;5;130;01m\\n\u001b[39;00m\u001b[38;5;124m'\u001b[39m:\n\u001b[1;32m    149\u001b[0m         text_line \u001b[38;5;241m+\u001b[39m\u001b[38;5;241m=\u001b[39m \u001b[38;5;241m1\u001b[39m\n",
      "File \u001b[0;32m/opt/homebrew/lib/python3.11/site-packages/lark/parsers/xearley.py:119\u001b[0m, in \u001b[0;36mParser._parse.<locals>.scan\u001b[0;34m(i, to_scan)\u001b[0m\n\u001b[1;32m    117\u001b[0m \u001b[38;5;28;01mif\u001b[39;00m \u001b[38;5;129;01mnot\u001b[39;00m next_set \u001b[38;5;129;01mand\u001b[39;00m \u001b[38;5;129;01mnot\u001b[39;00m delayed_matches \u001b[38;5;129;01mand\u001b[39;00m \u001b[38;5;129;01mnot\u001b[39;00m next_to_scan:\n\u001b[1;32m    118\u001b[0m     considered_rules \u001b[38;5;241m=\u001b[39m \u001b[38;5;28mlist\u001b[39m(\u001b[38;5;28msorted\u001b[39m(to_scan, key\u001b[38;5;241m=\u001b[39m\u001b[38;5;28;01mlambda\u001b[39;00m key: key\u001b[38;5;241m.\u001b[39mrule\u001b[38;5;241m.\u001b[39morigin\u001b[38;5;241m.\u001b[39mname))\n\u001b[0;32m--> 119\u001b[0m     \u001b[38;5;28;01mraise\u001b[39;00m UnexpectedCharacters(stream, i, text_line, text_column, {item\u001b[38;5;241m.\u001b[39mexpect\u001b[38;5;241m.\u001b[39mname \u001b[38;5;28;01mfor\u001b[39;00m item \u001b[38;5;129;01min\u001b[39;00m to_scan},\n\u001b[1;32m    120\u001b[0m                                \u001b[38;5;28mset\u001b[39m(to_scan), state\u001b[38;5;241m=\u001b[39m\u001b[38;5;28mfrozenset\u001b[39m(i\u001b[38;5;241m.\u001b[39ms \u001b[38;5;28;01mfor\u001b[39;00m i \u001b[38;5;129;01min\u001b[39;00m to_scan),\n\u001b[1;32m    121\u001b[0m                                considered_rules\u001b[38;5;241m=\u001b[39mconsidered_rules\n\u001b[1;32m    122\u001b[0m                                )\n\u001b[1;32m    124\u001b[0m \u001b[38;5;28;01mreturn\u001b[39;00m next_to_scan\n",
      "\u001b[0;31mUnexpectedCharacters\u001b[0m: No terminal matches '#' in the current parser context, at line 1 col 2\n\n`#`\n ^\nExpected one of: \n\t* _TEXT_BLOCK_DELIMITER\n\t* UNDERLINE_OPERATOR\n\t* _INLINE_WHITESPACE\n\t* PARENTHESES\n\t* PUNCTUATION\n\t* KEYWORD_OPERATOR\n\t* OVERLINE_OPERATOR\n\t* UNICODE_OPERATOR\n\t* ITALIC_OPERATOR\n\t* ARRAY_OPEN\n\t* MATH_BB_SYMBOLS\n\t* MATH_SYMBOLS\n\t* NUMBER\n\t* BOLD_OPERATOR\n\t* ROOT_OPERATOR\n\t* OPEN_BRACKET\n\t* MATH_GREEK_SYMBOLS\n\t* LETTER\n\t* SHORTCUT_OPERATOR\n\t* COMMENT_DELIMITER\n\t* MATH_CAL_SYMBOLS\n"
     ]
    }
   ],
   "source": [
    "t = napkin.parser.parse(sample)\n",
    "napkin.lister.transform(t)\n",
    "c = napkin.compiler.visit(t)"
   ]
  },
  {
   "cell_type": "code",
   "execution_count": 20,
   "id": "eabc9c28-6192-4cab-b5e7-59dd73f31acd",
   "metadata": {},
   "outputs": [
    {
     "name": "stdout",
     "output_type": "stream",
     "text": [
      "$( i_2 )_B$\n"
     ]
    }
   ],
   "source": [
    "print(c.result)"
   ]
  },
  {
   "cell_type": "code",
   "execution_count": 11,
   "id": "0bd8fb73-dc77-43a3-8dc3-c8d85b4ea515",
   "metadata": {},
   "outputs": [
    {
     "name": "stdout",
     "output_type": "stream",
     "text": [
      "Tree(Token('RULE', 'start'), [\n",
      "  Tree(Token('RULE', 'content'), [\n",
      "    Tree(Token('RULE', 'math_block'), [\n",
      "      Tree(Token('RULE', 'expression'), [\n",
      "        Tree(Token('RULE', 'sub_super_script_term'), [\n",
      "          Tree(Token('RULE', 'symbol'), [\n",
      "            Token('LETTER', 'x')\n",
      "          ]),\n",
      "          Token('SUPERSCRIPT_OPERATOR', '^'),\n",
      "          Tree(Token('RULE', 'symbol'), [\n",
      "            Token('UNICODE_OPERATOR', '*')\n",
      "          ]),\n",
      "          Token('SUBSCRIPT_OPERATOR', '_'),\n",
      "          Tree(Token('RULE', 'symbol'), [\n",
      "            Token('LETTER', 'i')\n",
      "          ])\n",
      "        ])\n",
      "      ])\n",
      "    ])\n",
      "  ])\n"
     ]
    }
   ],
   "source": [
    "print(unwrap(t))"
   ]
  },
  {
   "cell_type": "code",
   "execution_count": 46,
   "id": "8a06264f-96a4-473a-9f6e-1510f4b22028",
   "metadata": {},
   "outputs": [],
   "source": [
    "a = 'aaaaaaa'"
   ]
  },
  {
   "cell_type": "code",
   "execution_count": 47,
   "id": "c30fe16e-2c0e-4c01-bd40-061da1b79140",
   "metadata": {},
   "outputs": [
    {
     "name": "stdout",
     "output_type": "stream",
     "text": [
      "['a']\n"
     ]
    }
   ],
   "source": [
    "print(re.findall('a(?!.)', a))"
   ]
  },
  {
   "cell_type": "code",
   "execution_count": null,
   "id": "389e2b78-3408-437b-a18f-e2a148fe1a70",
   "metadata": {},
   "outputs": [],
   "source": []
  }
 ],
 "metadata": {
  "kernelspec": {
   "display_name": "Python 3 (ipykernel)",
   "language": "python",
   "name": "python3"
  },
  "language_info": {
   "codemirror_mode": {
    "name": "ipython",
    "version": 3
   },
   "file_extension": ".py",
   "mimetype": "text/x-python",
   "name": "python",
   "nbconvert_exporter": "python",
   "pygments_lexer": "ipython3",
   "version": "3.11.4"
  }
 },
 "nbformat": 4,
 "nbformat_minor": 5
}
