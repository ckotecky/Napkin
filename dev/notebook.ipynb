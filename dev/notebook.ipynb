{
 "cells": [
  {
   "cell_type": "code",
   "execution_count": 1,
   "id": "8cae52aa-8cfd-4596-a91d-3dca340b2f9c",
   "metadata": {},
   "outputs": [],
   "source": [
    "import re"
   ]
  },
  {
   "cell_type": "code",
   "execution_count": 2,
   "id": "bd4915a5-6c6e-4dc1-b1fa-580295b0ffbd",
   "metadata": {},
   "outputs": [],
   "source": [
    "from napkin import Napkin"
   ]
  },
  {
   "cell_type": "code",
   "execution_count": 3,
   "id": "78f5d918-1117-47ef-9d43-ba3cff8fd7a6",
   "metadata": {},
   "outputs": [],
   "source": [
    "def unwrap(tree):\n",
    "    lines = []\n",
    "    lastLineEnd = 0\n",
    "    \n",
    "    indent = 0\n",
    "    \n",
    "    text = str(tree)\n",
    "    \n",
    "    for i, c in enumerate(text):\n",
    "        if text[i:].startswith('), ['):\n",
    "            lines.append((indent * '  ') + text[lastLineEnd:i + 4].strip())\n",
    "            lastLineEnd = i + 4\n",
    "            indent += 1\n",
    "            \n",
    "        elif c == ']' and (i < len(text) - 1 and text[i + 1] == ')'):\n",
    "            lines.append((indent * '  ') + text[lastLineEnd:i].strip())\n",
    "            lastLineEnd = i\n",
    "            indent -= 1\n",
    "            \n",
    "        elif text[i:].startswith('), '):\n",
    "            lines.append((indent * '  ') + text[lastLineEnd:i + 2].strip())\n",
    "            lastLineEnd = i + 2\n",
    "                    \n",
    "    return '\\n'.join(lines)"
   ]
  },
  {
   "cell_type": "code",
   "execution_count": 4,
   "id": "3ecb57b6-506f-46aa-a8c4-c01f77285078",
   "metadata": {},
   "outputs": [],
   "source": [
    "napkin = Napkin()"
   ]
  },
  {
   "cell_type": "code",
   "execution_count": 5,
   "id": "7c8201bc-cb9e-4265-bdae-9ce58c7b6805",
   "metadata": {},
   "outputs": [],
   "source": [
    "sample = r'''\n",
    "`X_{t,l} = \\{\n",
    "\t\t1 & E_{t,l} ``occurs``\n",
    "\t\t0 & ``otherwise``\n",
    "\t\\\\`\n",
    "'''"
   ]
  },
  {
   "cell_type": "code",
   "execution_count": 6,
   "id": "63b03fb2-0619-419a-8624-fd58eabbdda6",
   "metadata": {},
   "outputs": [],
   "source": [
    "t = napkin.parser.parse(sample)\n",
    "napkin.lister.transform(t)\n",
    "c = napkin.compiler.visit(t)"
   ]
  },
  {
   "cell_type": "code",
   "execution_count": 7,
   "id": "eabc9c28-6192-4cab-b5e7-59dd73f31acd",
   "metadata": {},
   "outputs": [
    {
     "name": "stdout",
     "output_type": "stream",
     "text": [
      "$X_{t,l} = \n",
      "\\left\\{ \\begin{array}{cc}\n",
      "\t1 & E_{t,l} \\enskip \\text{occurs} \\enskip \\\\\n",
      "\t0 & \\enskip \\text{otherwise} \\enskip \n",
      "\\end{array} \\right. $\n"
     ]
    }
   ],
   "source": [
    "print(c.result)"
   ]
  },
  {
   "cell_type": "code",
   "execution_count": 8,
   "id": "0bd8fb73-dc77-43a3-8dc3-c8d85b4ea515",
   "metadata": {},
   "outputs": [
    {
     "name": "stdout",
     "output_type": "stream",
     "text": [
      "Tree(Token('RULE', 'start'), [\n",
      "  Tree(Token('RULE', 'content'), [\n",
      "    Tree(Token('RULE', 'math_block'), [\n",
      "      Tree(Token('RULE', 'expression'), [\n",
      "        Tree(Token('RULE', 'sub_super_script_term'), [\n",
      "          Tree(Token('RULE', 'symbol'), [\n",
      "            Token('LETTER', 'X')\n",
      "          ]),\n",
      "          Token('SUBSCRIPT_OPERATOR', '_'),\n",
      "          Tree(Token('RULE', 'sub_expression'), [\n",
      "            Token('OPEN_BRACKET', '{'),\n",
      "            Tree(Token('RULE', 'inline_expression'), [\n",
      "              Tree(Token('RULE', 'term'), [\n",
      "                Tree(Token('RULE', 'symbol'), [\n",
      "                  Token('LETTER', 't')\n",
      "                ]),\n",
      "                Tree(Token('RULE', 'symbol'), [\n",
      "                  Token('PUNCTUATION', ',')\n",
      "                ]),\n",
      "                Tree(Token('RULE', 'symbol'), [\n",
      "                  Token('LETTER', 'l')\n",
      "                ])\n",
      "              ])\n",
      "            ]),\n",
      "            Token('CLOSE_BRACKET', '}')\n",
      "          ])\n",
      "        ]),\n",
      "        Tree(Token('RULE', 'inline_whitespace'), [\n",
      "          Token('SPACE', ' ')\n",
      "        ]),\n",
      "        Tree(Token('RULE', 'term'), [\n",
      "          Tree(Token('RULE', 'symbol'), [\n",
      "            Token('UNICODE_OPERATOR', '=')\n",
      "          ])\n",
      "        ]),\n",
      "        Tree(Token('RULE', 'inline_whitespace'), [\n",
      "          Token('SPACE', ' ')\n",
      "        ]),\n",
      "        Tree(Token('RULE', 'array'), [\n",
      "          Token('ARRAY_OPEN', '\\\\{'),\n",
      "          Tree(Token('RULE', 'array_row'), [\n",
      "            Tree(Token('RULE', 'inline_expression'), [\n",
      "              Tree(Token('RULE', 'term'), [\n",
      "                Tree(Token('RULE', 'symbol'), [\n",
      "                  Token('NUMBER', '1')\n",
      "                ])\n",
      "              ])\n",
      "            ]),\n",
      "            Token('ARRAY_COLUMN_DIVIDER', '&'),\n",
      "            Tree(Token('RULE', 'inline_expression'), [\n",
      "              Tree(Token('RULE', 'sub_super_script_term'), [\n",
      "                Tree(Token('RULE', 'symbol'), [\n",
      "                  Token('LETTER', 'E')\n",
      "                ]),\n",
      "                Token('SUBSCRIPT_OPERATOR', '_'),\n",
      "                Tree(Token('RULE', 'sub_expression'), [\n",
      "                  Token('OPEN_BRACKET', '{'),\n",
      "                  Tree(Token('RULE', 'inline_expression'), [\n",
      "                    Tree(Token('RULE', 'term'), [\n",
      "                      Tree(Token('RULE', 'symbol'), [\n",
      "                        Token('LETTER', 't')\n",
      "                      ]),\n",
      "                      Tree(Token('RULE', 'symbol'), [\n",
      "                        Token('PUNCTUATION', ',')\n",
      "                      ]),\n",
      "                      Tree(Token('RULE', 'symbol'), [\n",
      "                        Token('LETTER', 'l')\n",
      "                      ])\n",
      "                    ])\n",
      "                  ]),\n",
      "                  Token('CLOSE_BRACKET', '}')\n",
      "                ])\n",
      "              ]),\n",
      "              Tree(Token('RULE', 'inline_whitespace'), [\n",
      "                Token('SPACE', ' ')\n",
      "              ]),\n",
      "              Tree(Token('RULE', 'text_block'), [\n",
      "                Token('MATH_TEXT', 'occurs')\n",
      "              ])\n",
      "            ])\n",
      "          ]),\n",
      "          Tree(Token('RULE', 'array_row'), [\n",
      "            Tree(Token('RULE', 'inline_expression'), [\n",
      "              Tree(Token('RULE', 'term'), [\n",
      "                Tree(Token('RULE', 'symbol'), [\n",
      "                  Token('NUMBER', '0')\n",
      "                ])\n",
      "              ])\n",
      "            ]),\n",
      "            Token('ARRAY_COLUMN_DIVIDER', '&'),\n",
      "            Tree(Token('RULE', 'inline_expression'), [\n",
      "              Tree(Token('RULE', 'text_block'), [\n",
      "                Token('MATH_TEXT', 'otherwise')\n",
      "              ])\n",
      "            ])\n",
      "          ]),\n",
      "          Token('ARRAY_CLOSE', '\\\\\\\\')\n",
      "        ])\n",
      "      ])\n",
      "    ])\n",
      "  ])\n"
     ]
    }
   ],
   "source": [
    "print(unwrap(t))"
   ]
  },
  {
   "cell_type": "code",
   "execution_count": 46,
   "id": "8a06264f-96a4-473a-9f6e-1510f4b22028",
   "metadata": {},
   "outputs": [],
   "source": [
    "a = 'aaaaaaa'"
   ]
  },
  {
   "cell_type": "code",
   "execution_count": 47,
   "id": "c30fe16e-2c0e-4c01-bd40-061da1b79140",
   "metadata": {},
   "outputs": [
    {
     "name": "stdout",
     "output_type": "stream",
     "text": [
      "['a']\n"
     ]
    }
   ],
   "source": [
    "print(re.findall('a(?!.)', a))"
   ]
  },
  {
   "cell_type": "code",
   "execution_count": null,
   "id": "389e2b78-3408-437b-a18f-e2a148fe1a70",
   "metadata": {},
   "outputs": [],
   "source": []
  }
 ],
 "metadata": {
  "kernelspec": {
   "display_name": "Python 3 (ipykernel)",
   "language": "python",
   "name": "python3"
  },
  "language_info": {
   "codemirror_mode": {
    "name": "ipython",
    "version": 3
   },
   "file_extension": ".py",
   "mimetype": "text/x-python",
   "name": "python",
   "nbconvert_exporter": "python",
   "pygments_lexer": "ipython3",
   "version": "3.11.6"
  }
 },
 "nbformat": 4,
 "nbformat_minor": 5
}
