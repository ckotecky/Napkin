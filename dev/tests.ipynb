{
 "cells": [
  {
   "cell_type": "code",
   "execution_count": 17,
   "id": "785d04aa-73ba-41ce-8cfc-77ef8785a31b",
   "metadata": {},
   "outputs": [],
   "source": [
    "import re\n",
    "import json\n",
    "from glob import glob\n",
    "from os import path"
   ]
  },
  {
   "cell_type": "code",
   "execution_count": 139,
   "id": "eb7d1141-dc11-41d5-b80c-7170c75224ee",
   "metadata": {},
   "outputs": [
    {
     "name": "stdout",
     "output_type": "stream",
     "text": [
      "[ \\t]*\\$[ \\t]*\\\\frac{2}{3}[ \\t]*\\$[ \\t]*\n"
     ]
    }
   ],
   "source": [
    "with open('../source/test_pairs.json', 'rb') as f:\n",
    "    tests = json.load(f)\n",
    "\n",
    "pattern = tests['math']['fractions']['`2/3`']\n",
    "print(pattern)"
   ]
  },
  {
   "cell_type": "code",
   "execution_count": 115,
   "id": "8b715ee2-ca10-4e69-bf60-ecab32bb8102",
   "metadata": {},
   "outputs": [],
   "source": [
    "result = r'$ \\frac{2}{3}  $'\n",
    "# result = '{2}{3}'"
   ]
  },
  {
   "cell_type": "code",
   "execution_count": 116,
   "id": "ac4c12f9-8b84-4502-b74d-87c018bc4e77",
   "metadata": {},
   "outputs": [],
   "source": [
    "re.fullmatch(pattern, result)"
   ]
  },
  {
   "cell_type": "code",
   "execution_count": 125,
   "id": "00e2bcb9-f1ea-414b-83df-d3d933dd45fb",
   "metadata": {},
   "outputs": [
    {
     "data": {
      "text/plain": [
       "<re.Match object; span=(0, 4), match='\\x0crac'>"
      ]
     },
     "execution_count": 125,
     "metadata": {},
     "output_type": "execute_result"
    }
   ],
   "source": [
    "re.fullmatch('\\\\frac', '\\frac')"
   ]
  },
  {
   "cell_type": "code",
   "execution_count": 129,
   "id": "68ef9190-143e-4951-8cc7-586bdf3cdaa7",
   "metadata": {},
   "outputs": [
    {
     "data": {
      "text/plain": [
       "<re.Match object; span=(0, 6), match='{2}{3}'>"
      ]
     },
     "execution_count": 129,
     "metadata": {},
     "output_type": "execute_result"
    }
   ],
   "source": [
    "re.fullmatch('\\{2\\}\\{3\\}', '{2}{3}')"
   ]
  },
  {
   "cell_type": "code",
   "execution_count": 130,
   "id": "30bf983b-a0ca-48e4-952e-f67b234ee9a3",
   "metadata": {},
   "outputs": [
    {
     "data": {
      "text/plain": [
       "<re.Match object; span=(0, 10), match='frac{2}{3}'>"
      ]
     },
     "execution_count": 130,
     "metadata": {},
     "output_type": "execute_result"
    }
   ],
   "source": [
    "re.fullmatch('frac\\{2\\}\\{3\\}', 'frac{2}{3}')"
   ]
  },
  {
   "cell_type": "code",
   "execution_count": 133,
   "id": "0074289e-78df-490d-a148-a8083456186e",
   "metadata": {},
   "outputs": [
    {
     "data": {
      "text/plain": [
       "<re.Match object; span=(0, 11), match='\\\\frac{2}{3}'>"
      ]
     },
     "execution_count": 133,
     "metadata": {},
     "output_type": "execute_result"
    }
   ],
   "source": [
    "re.fullmatch('\\\\\\\\frac\\{2\\}\\{3\\}', '\\\\frac{2}{3}')"
   ]
  },
  {
   "cell_type": "code",
   "execution_count": 134,
   "id": "ce271c9f-08cc-48e6-8299-80b2ae5b0013",
   "metadata": {},
   "outputs": [
    {
     "data": {
      "text/plain": [
       "<re.Match object; span=(0, 13), match='$\\\\frac{2}{3}$'>"
      ]
     },
     "execution_count": 134,
     "metadata": {},
     "output_type": "execute_result"
    }
   ],
   "source": [
    "re.fullmatch('\\$\\\\\\\\frac\\{2\\}\\{3\\}\\$', '$\\\\frac{2}{3}$')"
   ]
  },
  {
   "cell_type": "code",
   "execution_count": 136,
   "id": "50cc61f4-c43c-4cab-a47b-247b3017fe0c",
   "metadata": {},
   "outputs": [
    {
     "data": {
      "text/plain": [
       "<re.Match object; span=(0, 15), match='$ \\\\frac{2}{3} $'>"
      ]
     },
     "execution_count": 136,
     "metadata": {},
     "output_type": "execute_result"
    }
   ],
   "source": [
    "re.fullmatch('\\$[ \\t]*\\\\\\\\frac\\{2\\}\\{3\\}[ \\t]*\\$', '$ \\\\frac{2}{3} $')"
   ]
  },
  {
   "cell_type": "code",
   "execution_count": 138,
   "id": "0e5193bd-959c-4b67-8de6-f6ce088804f6",
   "metadata": {},
   "outputs": [
    {
     "data": {
      "text/plain": [
       "<re.Match object; span=(0, 15), match='$ \\\\frac{2}{3} $'>"
      ]
     },
     "execution_count": 138,
     "metadata": {},
     "output_type": "execute_result"
    }
   ],
   "source": [
    "re.fullmatch('[ \\t]*\\$[ \\t]*\\\\\\\\frac\\{2\\}\\{3\\}[ \\t]*\\$[ \\t]*', '$ \\\\frac{2}{3} $')"
   ]
  },
  {
   "cell_type": "code",
   "execution_count": null,
   "id": "0309590d-2104-4969-bca1-f4bc1bc512f5",
   "metadata": {},
   "outputs": [],
   "source": [
    "re.fullmatch('[ \\t]*\\$[ \\t]*\\\\\\\\frac\\{2\\}\\{3\\}[ \\t]*\\$[ \\t]*', '$ \\\\frac{2}{3} $')"
   ]
  },
  {
   "cell_type": "markdown",
   "id": "0309c6e5-e7b8-4ab0-bdc3-030fd7e756c8",
   "metadata": {},
   "source": [
    "---"
   ]
  },
  {
   "cell_type": "code",
   "execution_count": 18,
   "id": "5c4821e5-65a0-4d48-8ff6-01e9ca108392",
   "metadata": {},
   "outputs": [],
   "source": [
    "testPath = '/Users/cyril/Documents/Source/Napkin/tests/pairs/'"
   ]
  },
  {
   "cell_type": "code",
   "execution_count": 27,
   "id": "5eccc8d3-22bc-4bb2-ba56-c7c1df62a02e",
   "metadata": {},
   "outputs": [],
   "source": [
    "def loadTests(testPath):\n",
    "    paths = glob(f'{testPath}*.napkin')\n",
    "\n",
    "    tests = []\n",
    "    \n",
    "    for sourcePath in paths:    \n",
    "        resultPath = sourcePath[:-7]\n",
    "        \n",
    "        with open(sourcePath, 'r') as f:\n",
    "            source = f.read()\n",
    "    \n",
    "        with open(resultPath, 'r') as f:\n",
    "            result = f.read()\n",
    "    \n",
    "        name = path.basename(resultPath)\n",
    "    \n",
    "        tests.append((name, source, result))\n",
    "\n",
    "    return tests"
   ]
  },
  {
   "cell_type": "code",
   "execution_count": 28,
   "id": "ad422eb9-3236-4917-b24b-d9b4c594d354",
   "metadata": {},
   "outputs": [
    {
     "data": {
      "text/plain": [
       "[('fraction_02',\n",
       "  '`22/33`',\n",
       "  '[ \\\\t]*\\\\$[ \\\\t]*2[ \\\\t]*\\\\\\\\frac\\\\{2\\\\}\\\\{3\\\\}[ \\\\t]*3[ \\\\t]*\\\\$[ \\\\t]*'),\n",
       " ('fraction_01',\n",
       "  '`2/3`',\n",
       "  '[ \\\\t]*\\\\$[ \\\\t]*\\\\\\\\frac\\\\{2\\\\}\\\\{3\\\\}[ \\\\t]*\\\\$[ \\\\t]*')]"
      ]
     },
     "execution_count": 28,
     "metadata": {},
     "output_type": "execute_result"
    }
   ],
   "source": [
    "loadTests(testPath)"
   ]
  },
  {
   "cell_type": "code",
   "execution_count": null,
   "id": "60600a23-62bc-42cf-9060-25294d0666b3",
   "metadata": {},
   "outputs": [],
   "source": []
  }
 ],
 "metadata": {
  "kernelspec": {
   "display_name": "Python 3 (ipykernel)",
   "language": "python",
   "name": "python3"
  },
  "language_info": {
   "codemirror_mode": {
    "name": "ipython",
    "version": 3
   },
   "file_extension": ".py",
   "mimetype": "text/x-python",
   "name": "python",
   "nbconvert_exporter": "python",
   "pygments_lexer": "ipython3",
   "version": "3.11.4"
  }
 },
 "nbformat": 4,
 "nbformat_minor": 5
}
