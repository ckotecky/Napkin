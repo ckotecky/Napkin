{
 "cells": [
  {
   "cell_type": "code",
   "execution_count": 1,
   "id": "b9541320-6c10-451c-a6e1-bd174438afdf",
   "metadata": {},
   "outputs": [],
   "source": [
    "from napkin.napkin import Napkin\n",
    "from lark import Tree"
   ]
  },
  {
   "cell_type": "code",
   "execution_count": 2,
   "id": "4053a83d-ad7d-44b2-855b-8706ed2d694c",
   "metadata": {},
   "outputs": [],
   "source": [
    "napkin = Napkin()"
   ]
  },
  {
   "cell_type": "code",
   "execution_count": 3,
   "id": "00f8d2d0-1fc9-4b28-ae98-b9be4cfe708d",
   "metadata": {},
   "outputs": [],
   "source": [
    "def unwrap(tree):\n",
    "    lines = []\n",
    "    lastLineEnd = 0\n",
    "    \n",
    "    indent = 0\n",
    "    \n",
    "    text = str(tree)\n",
    "    \n",
    "    for i, c in enumerate(text):\n",
    "        if text[i:].startswith('), ['):\n",
    "            lines.append((indent * '  ') + text[lastLineEnd:i + 4].strip())\n",
    "            lastLineEnd = i + 4\n",
    "            indent += 1\n",
    "            \n",
    "        elif c == ']':\n",
    "            lines.append((indent * '  ') + text[lastLineEnd:i].strip())\n",
    "            lastLineEnd = i\n",
    "            indent -= 1\n",
    "            \n",
    "        elif text[i:].startswith('), '):\n",
    "            lines.append((indent * '  ') + text[lastLineEnd:i + 2].strip())\n",
    "            lastLineEnd = i + 2\n",
    "                    \n",
    "    return '\\n'.join(lines)"
   ]
  },
  {
   "cell_type": "code",
   "execution_count": 53,
   "id": "209dc1b7-4a18-4d81-b3f9-101d249ac6a0",
   "metadata": {},
   "outputs": [],
   "source": [
    "sample = '''` {a xa}_ `'''"
   ]
  },
  {
   "cell_type": "code",
   "execution_count": 54,
   "id": "28f137ca-39b7-43ec-91a1-13c188870a4d",
   "metadata": {},
   "outputs": [],
   "source": [
    "tree = napkin.parser.parse(sample)"
   ]
  },
  {
   "cell_type": "code",
   "execution_count": 45,
   "id": "936dd7af-ccc7-4c86-bf61-37bfe1549e69",
   "metadata": {},
   "outputs": [],
   "source": [
    "napkin.lister.transform(tree)"
   ]
  },
  {
   "cell_type": "code",
   "execution_count": 46,
   "id": "a5450e96-6eae-4113-be0b-798e79eb063a",
   "metadata": {},
   "outputs": [
    {
     "name": "stdout",
     "output_type": "stream",
     "text": [
      "Tree(Token('RULE', 'start'), [\n",
      "  Tree(Token('RULE', 'content'), [\n",
      "    Tree(Token('RULE', 'math_block'), [\n",
      "      Token('MATH_BLOCK_DELIMITER', '`'),\n",
      "      Tree(Token('RULE', 'math_content'), [\n",
      "        Tree(Token('RULE', 'expression'), [\n",
      "          Tree(Token('RULE', 'underline_overline'), [\n",
      "            Tree(Token('RULE', 'inline_whitespace'), [\n",
      "              Token('SPACE', ' ')\n",
      "            ]),\n",
      "            Tree(Token('RULE', 'sub_expression'), [\n",
      "              Token('OPEN_BRACKET', '{'),\n",
      "              Tree(Token('RULE', 'expression'), [\n",
      "                Tree(Token('RULE', 'term'), [\n",
      "                  Tree(Token('RULE', 'symbol'), [\n",
      "                    Token('LETTER', 'a')\n",
      "                  ])\n",
      "                ]),\n",
      "                Tree(Token('RULE', 'inline_whitespace'), [\n",
      "                  Token('SPACE', ' ')\n",
      "                ]),\n",
      "                Tree(Token('RULE', 'term'), [\n",
      "                  Tree(Token('RULE', 'symbol'), [\n",
      "                    Token('LETTER', 'x')\n",
      "                  ]),\n",
      "                  Tree(Token('RULE', 'symbol'), [\n",
      "                    Token('LETTER', 'a')\n",
      "                  ])\n",
      "                ])\n",
      "              ]),\n",
      "              Token('CLOSE_BRACKET', '}')\n",
      "            ]),\n",
      "            Token('UNDERLINE_OPERATOR', '_'),\n",
      "            Tree(Token('RULE', 'inline_whitespace'), [\n",
      "              Token('SPACE', ' ')\n",
      "            ])\n",
      "          ])\n",
      "        ])\n",
      "      ]),\n",
      "      Token('MATH_BLOCK_DELIMITER', '`')\n",
      "    ])\n",
      "  ])\n"
     ]
    }
   ],
   "source": [
    "print(unwrap(tree))"
   ]
  },
  {
   "cell_type": "code",
   "execution_count": 7,
   "id": "a105ee2b-5915-403d-9965-f3784e3675df",
   "metadata": {},
   "outputs": [
    {
     "ename": "KeyError",
     "evalue": "'vt'",
     "output_type": "error",
     "traceback": [
      "\u001b[0;31m---------------------------------------------------------------------------\u001b[0m",
      "\u001b[0;31mKeyError\u001b[0m                                  Traceback (most recent call last)",
      "Cell \u001b[0;32mIn[7], line 1\u001b[0m\n\u001b[0;32m----> 1\u001b[0m compiled \u001b[38;5;241m=\u001b[39m \u001b[43mnapkin\u001b[49m\u001b[38;5;241;43m.\u001b[39;49m\u001b[43mcompiler\u001b[49m\u001b[38;5;241;43m.\u001b[39;49m\u001b[43mvisit\u001b[49m\u001b[43m(\u001b[49m\u001b[43mtree\u001b[49m\u001b[43m)\u001b[49m\n",
      "File \u001b[0;32m/opt/homebrew/lib/python3.11/site-packages/lark/visitors.py:387\u001b[0m, in \u001b[0;36mVisitor_Recursive.visit\u001b[0;34m(self, tree)\u001b[0m\n\u001b[1;32m    385\u001b[0m \u001b[38;5;28;01mfor\u001b[39;00m child \u001b[38;5;129;01min\u001b[39;00m tree\u001b[38;5;241m.\u001b[39mchildren:\n\u001b[1;32m    386\u001b[0m     \u001b[38;5;28;01mif\u001b[39;00m \u001b[38;5;28misinstance\u001b[39m(child, Tree):\n\u001b[0;32m--> 387\u001b[0m         \u001b[38;5;28;43mself\u001b[39;49m\u001b[38;5;241;43m.\u001b[39;49m\u001b[43mvisit\u001b[49m\u001b[43m(\u001b[49m\u001b[43mchild\u001b[49m\u001b[43m)\u001b[49m\n\u001b[1;32m    389\u001b[0m \u001b[38;5;28mself\u001b[39m\u001b[38;5;241m.\u001b[39m_call_userfunc(tree)\n\u001b[1;32m    390\u001b[0m \u001b[38;5;28;01mreturn\u001b[39;00m tree\n",
      "File \u001b[0;32m/opt/homebrew/lib/python3.11/site-packages/lark/visitors.py:389\u001b[0m, in \u001b[0;36mVisitor_Recursive.visit\u001b[0;34m(self, tree)\u001b[0m\n\u001b[1;32m    386\u001b[0m     \u001b[38;5;28;01mif\u001b[39;00m \u001b[38;5;28misinstance\u001b[39m(child, Tree):\n\u001b[1;32m    387\u001b[0m         \u001b[38;5;28mself\u001b[39m\u001b[38;5;241m.\u001b[39mvisit(child)\n\u001b[0;32m--> 389\u001b[0m \u001b[38;5;28;43mself\u001b[39;49m\u001b[38;5;241;43m.\u001b[39;49m\u001b[43m_call_userfunc\u001b[49m\u001b[43m(\u001b[49m\u001b[43mtree\u001b[49m\u001b[43m)\u001b[49m\n\u001b[1;32m    390\u001b[0m \u001b[38;5;28;01mreturn\u001b[39;00m tree\n",
      "File \u001b[0;32m/opt/homebrew/lib/python3.11/site-packages/lark/visitors.py:343\u001b[0m, in \u001b[0;36mVisitorBase._call_userfunc\u001b[0;34m(self, tree)\u001b[0m\n\u001b[1;32m    342\u001b[0m \u001b[38;5;28;01mdef\u001b[39;00m \u001b[38;5;21m_call_userfunc\u001b[39m(\u001b[38;5;28mself\u001b[39m, tree):\n\u001b[0;32m--> 343\u001b[0m     \u001b[38;5;28;01mreturn\u001b[39;00m \u001b[38;5;28;43mgetattr\u001b[39;49m\u001b[43m(\u001b[49m\u001b[38;5;28;43mself\u001b[39;49m\u001b[43m,\u001b[49m\u001b[43m \u001b[49m\u001b[43mtree\u001b[49m\u001b[38;5;241;43m.\u001b[39;49m\u001b[43mdata\u001b[49m\u001b[43m,\u001b[49m\u001b[43m \u001b[49m\u001b[38;5;28;43mself\u001b[39;49m\u001b[38;5;241;43m.\u001b[39;49m\u001b[43m__default__\u001b[49m\u001b[43m)\u001b[49m\u001b[43m(\u001b[49m\u001b[43mtree\u001b[49m\u001b[43m)\u001b[49m\n",
      "File \u001b[0;32m~/Documents/Source/Napkin/source/napkin/compiler.py:540\u001b[0m, in \u001b[0;36mCompiler.block\u001b[0;34m(self, tree)\u001b[0m\n\u001b[1;32m    538\u001b[0m \u001b[38;5;28;01melif\u001b[39;00m \u001b[38;5;28mlen\u001b[39m(titleChild\u001b[38;5;241m.\u001b[39mchildren) \u001b[38;5;241m>\u001b[39m \u001b[38;5;241m1\u001b[39m:\n\u001b[1;32m    539\u001b[0m     blockTag \u001b[38;5;241m=\u001b[39m titleChild\u001b[38;5;241m.\u001b[39mchildren[\u001b[38;5;241m0\u001b[39m]\u001b[38;5;241m.\u001b[39mvalue\u001b[38;5;241m.\u001b[39mlower()\n\u001b[0;32m--> 540\u001b[0m     blockType \u001b[38;5;241m=\u001b[39m \u001b[38;5;28;43mself\u001b[39;49m\u001b[38;5;241;43m.\u001b[39;49m\u001b[43mblockMap\u001b[49m\u001b[43m[\u001b[49m\u001b[43mblockTag\u001b[49m\u001b[43m]\u001b[49m\n\u001b[1;32m    542\u001b[0m     title \u001b[38;5;241m=\u001b[39m titleChild\u001b[38;5;241m.\u001b[39mchildren[\u001b[38;5;241m1\u001b[39m]\u001b[38;5;241m.\u001b[39mresult\n\u001b[1;32m    544\u001b[0m     tree\u001b[38;5;241m.\u001b[39mresult \u001b[38;5;241m=\u001b[39m \u001b[38;5;124mf\u001b[39m\u001b[38;5;124m'\u001b[39m\u001b[38;5;130;01m\\n\u001b[39;00m\u001b[38;5;130;01m\\\\\u001b[39;00m\u001b[38;5;124mbegin\u001b[39m\u001b[38;5;130;01m{{\u001b[39;00m\u001b[38;5;132;01m{\u001b[39;00mblockType\u001b[38;5;132;01m}\u001b[39;00m\u001b[38;5;130;01m}}\u001b[39;00m\u001b[38;5;124m[\u001b[39m\u001b[38;5;132;01m{\u001b[39;00mtitle\u001b[38;5;132;01m}\u001b[39;00m\u001b[38;5;124m]\u001b[39m\u001b[38;5;130;01m\\n\u001b[39;00m\u001b[38;5;124m'\u001b[39m\n",
      "\u001b[0;31mKeyError\u001b[0m: 'vt'"
     ]
    }
   ],
   "source": [
    "compiled = napkin.compiler.visit(tree)"
   ]
  },
  {
   "cell_type": "code",
   "execution_count": null,
   "id": "973e123f-7cd9-4cd7-b086-28fb90e1eed5",
   "metadata": {},
   "outputs": [],
   "source": []
  }
 ],
 "metadata": {
  "kernelspec": {
   "display_name": "Python 3 (ipykernel)",
   "language": "python",
   "name": "python3"
  },
  "language_info": {
   "codemirror_mode": {
    "name": "ipython",
    "version": 3
   },
   "file_extension": ".py",
   "mimetype": "text/x-python",
   "name": "python",
   "nbconvert_exporter": "python",
   "pygments_lexer": "ipython3",
   "version": "3.11.4"
  }
 },
 "nbformat": 4,
 "nbformat_minor": 5
}
